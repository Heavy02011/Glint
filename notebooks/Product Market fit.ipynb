{
 "cells": [
  {
   "cell_type": "markdown",
   "metadata": {},
   "source": [
    "## what P/M fit looks like \n",
    "from https://andrewchen.co/zero-to-productmarket-fit-presentation/\n",
    "\n",
    "Consumer products:\n",
    "    * Usage 3 out of every 7 days\n",
    "    * Organic growth of 100s of signups/day\n",
    "    * 30% users are active the day after signup\n",
    "    * Clear path to 100,000 user\n",
    "    \n",
    "SaaS products:\n",
    "    * 5% conversion rate from free-to-paid\n",
    "    * 3X CPA to LTV ratio\n",
    "    * <2% monthly churn rate\n",
    "    * Clear path to $100k MR"
   ]
  },
  {
   "cell_type": "code",
   "execution_count": null,
   "metadata": {},
   "outputs": [],
   "source": [
    "import pandas as pd\n",
    "import plotly.graph_objs as go\n",
    "from plotly.offline import download_plotlyjs, init_notebook_mode, plot, iplot\n",
    "\n",
    "# stay offline for plotly\n",
    "init_notebook_mode(connected=True)"
   ]
  },
  {
   "cell_type": "code",
   "execution_count": null,
   "metadata": {
    "tags": [
     "parameters"
    ]
   },
   "outputs": [],
   "source": [
    "# using sample data from https://github.com/matplotlib/matplotlib/blob/master/lib/matplotlib/mpl-data/sample_data/percent_bachelors_degrees_women_usa.csv\n",
    "file_name = \"../data/payments.csv\""
   ]
  },
  {
   "cell_type": "code",
   "execution_count": null,
   "metadata": {},
   "outputs": [],
   "source": [
    "# read csv, if that doesn't work, coerce with latin-1 encoding\n",
    "try:\n",
    "    df = pd.read_csv(file_name)\n",
    "except:\n",
    "    df = pd.read_csv(file_name, encoding='latin-1')"
   ]
  },
  {
   "cell_type": "code",
   "execution_count": null,
   "metadata": {},
   "outputs": [],
   "source": [
    "user_columns = ['user', 'client', 'userid', 'clientid', 'user_id', 'client_id', 'client.email', 'customer id']\n",
    "timestamp_columns = ['timestamp', 'state.openTimestamp', 'datetime', 'created (utc)']\n",
    "\n",
    "user_id_column = \"\"\n",
    "timestamp_column = \"\"\n",
    "\n",
    "for column in list(df.columns):\n",
    "    if column.lower() in user_columns:\n",
    "        user_id_column = column\n",
    "    elif column.lower() in timestamp_columns:\n",
    "        timestamp_column = column\n",
    "\n",
    "print(f'Identified \"{user_id_column}\" as user col, \"{timestamp_column}\" as timestamp col')"
   ]
  },
  {
   "cell_type": "code",
   "execution_count": null,
   "metadata": {},
   "outputs": [],
   "source": [
    "# get native timestamp\n",
    "df['native_timestamp'] = pd.to_datetime(df[timestamp_column], errors='coerce')\n",
    "\n",
    "# get month\n",
    "df['month'] = df['native_timestamp'].dt.strftime('%Y-%m')\n",
    "\n",
    "# get week\n",
    "df['year_week'] = df['native_timestamp'].dt.strftime('%Y-%U')\n",
    "\n",
    "# get year day month\n",
    "df['day'] = df['native_timestamp'].dt.strftime('%Y-%m-%d')"
   ]
  },
  {
   "cell_type": "code",
   "execution_count": null,
   "metadata": {},
   "outputs": [],
   "source": [
    "df.describe()"
   ]
  },
  {
   "cell_type": "markdown",
   "metadata": {},
   "source": [
    "### Usage 3 out of every 7 days"
   ]
  },
  {
   "cell_type": "code",
   "execution_count": null,
   "metadata": {},
   "outputs": [],
   "source": [
    "# group by customer id and year_week\n",
    "weekly_usage = df.groupby(['Customer ID', 'year_week']).agg('count')[['id']]"
   ]
  },
  {
   "cell_type": "code",
   "execution_count": null,
   "metadata": {},
   "outputs": [],
   "source": [
    "# find the average weekly usage\n",
    "avg_weekly_usage = weekly_usage.groupby('year_week').agg('mean')"
   ]
  },
  {
   "cell_type": "code",
   "execution_count": null,
   "metadata": {},
   "outputs": [],
   "source": [
    "fig = go.Figure(data=go.Scatter(x=avg_weekly_usage.index, y=avg_weekly_usage['id'], \n",
    "                                mode='lines', marker_color='rgb(227, 0, 6)'))\n",
    "\n",
    "fig.update_layout(\n",
    "    title=f'Average weekly usage per user',\n",
    "    xaxis_title='Month',\n",
    "    yaxis_title='Average weekly usage',\n",
    "    margin=dict(\n",
    "        pad=10\n",
    "    ),\n",
    "    font=dict(\n",
    "        family=\"-apple-system, BlinkMacSystemFont, 'Segoe UI', 'PingFang SC', 'Hiragino Sans GB', 'Microsoft YaHei', 'Helvetica Neue', Helvetica, Arial, sans-serif, 'Apple Color Emoji', 'Segoe UI Emoji', 'Segoe UI Symbol';\",\n",
    "        size=12,\n",
    "        color=\"#7f7f7f\"\n",
    "    )\n",
    ")\n",
    "\n",
    "fig.update_xaxes(showgrid=True, gridwidth=1, gridcolor='#EEEEEE')\n",
    "fig.update_yaxes(showgrid=True, gridwidth=1, gridcolor='#EEEEEE')\n",
    "\n",
    "fig['layout']['plot_bgcolor'] = 'rgba(0,0,0,0)'\n",
    "fig.show()"
   ]
  },
  {
   "cell_type": "markdown",
   "metadata": {},
   "source": [
    "### Organic growth of 100s of signups/day"
   ]
  },
  {
   "cell_type": "code",
   "execution_count": null,
   "metadata": {},
   "outputs": [],
   "source": [
    "retention = df"
   ]
  },
  {
   "cell_type": "code",
   "execution_count": null,
   "metadata": {},
   "outputs": [],
   "source": [
    "# set the index to customer ids\n",
    "retention.set_index('Customer ID', inplace=True)\n",
    "\n",
    "# find the first time each customer ordered\n",
    "retention['signup_day'] = retention.groupby(level=0)['day'].min()\n",
    "retention.reset_index(inplace=True)"
   ]
  },
  {
   "cell_type": "code",
   "execution_count": null,
   "metadata": {},
   "outputs": [],
   "source": [
    "daily_signups = retention.groupby('signup_day').agg('count')[['id']]"
   ]
  },
  {
   "cell_type": "code",
   "execution_count": null,
   "metadata": {},
   "outputs": [],
   "source": [
    "fig = go.Figure(data=go.Scatter(x=daily_signups.index, y=daily_signups['id'], \n",
    "                                mode='lines', marker_color='rgb(227, 0, 6)'))\n",
    "\n",
    "fig.update_layout(\n",
    "    title=f'Daily new users',\n",
    "    xaxis_title='Month',\n",
    "    yaxis_title='Average weekly usage',\n",
    "    margin=dict(\n",
    "        pad=10\n",
    "    ),\n",
    "    font=dict(\n",
    "        family=\"-apple-system, BlinkMacSystemFont, 'Segoe UI', 'PingFang SC', 'Hiragino Sans GB', 'Microsoft YaHei', 'Helvetica Neue', Helvetica, Arial, sans-serif, 'Apple Color Emoji', 'Segoe UI Emoji', 'Segoe UI Symbol';\",\n",
    "        size=12,\n",
    "        color=\"#7f7f7f\"\n",
    "    )\n",
    ")\n",
    "\n",
    "fig.update_xaxes(showgrid=True, gridwidth=1, gridcolor='#EEEEEE')\n",
    "fig.update_yaxes(showgrid=True, gridwidth=1, gridcolor='#EEEEEE')\n",
    "\n",
    "fig['layout']['plot_bgcolor'] = 'rgba(0,0,0,0)'\n",
    "fig.show()"
   ]
  },
  {
   "cell_type": "code",
   "execution_count": null,
   "metadata": {},
   "outputs": [],
   "source": [
    "daily_signups"
   ]
  },
  {
   "cell_type": "code",
   "execution_count": null,
   "metadata": {},
   "outputs": [],
   "source": [
    "daily_signups['week'] = pd.to_datetime(daily_signups.index)"
   ]
  },
  {
   "cell_type": "code",
   "execution_count": null,
   "metadata": {},
   "outputs": [],
   "source": [
    "# get year day month\n",
    "df_clients['day'] = df_clients['native_datetime'].dt.strftime('%Y-%m-%d')"
   ]
  },
  {
   "cell_type": "code",
   "execution_count": null,
   "metadata": {},
   "outputs": [],
   "source": [
    "daily_signups[daily_signups['id'] >= 100]"
   ]
  },
  {
   "cell_type": "markdown",
   "metadata": {},
   "source": [
    "### 30% users are active the day after signup"
   ]
  },
  {
   "cell_type": "code",
   "execution_count": null,
   "metadata": {},
   "outputs": [],
   "source": []
  }
 ],
 "metadata": {
  "celltoolbar": "Tags",
  "kernelspec": {
   "display_name": "Python 3",
   "language": "python",
   "name": "python3"
  },
  "language_info": {
   "codemirror_mode": {
    "name": "ipython",
    "version": 3
   },
   "file_extension": ".py",
   "mimetype": "text/x-python",
   "name": "python",
   "nbconvert_exporter": "python",
   "pygments_lexer": "ipython3",
   "version": "3.7.4"
  }
 },
 "nbformat": 4,
 "nbformat_minor": 2
}
