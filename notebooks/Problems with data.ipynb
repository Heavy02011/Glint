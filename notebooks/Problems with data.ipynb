{
 "cells": [
  {
   "cell_type": "markdown",
   "metadata": {},
   "source": [
    "- prevalance of columns with missing values\n",
    "- constant values in dataset\n",
    "- columns that are deterministic function of each other\n",
    "- similar columns\n",
    "- redundant data\n",
    "- null values\n",
    "- values that fall out of expected range\n",
    "- look at outliers\n",
    "    - compare averages and medians, if avg larger than median then large outliers\n",
    "    - outlier detection"
   ]
  },
  {
   "cell_type": "code",
   "execution_count": 81,
   "metadata": {},
   "outputs": [],
   "source": [
    "import pandas as pd\n",
    "import matplotlib.pyplot as plt"
   ]
  },
  {
   "cell_type": "code",
   "execution_count": 82,
   "metadata": {
    "tags": [
     "parameters"
    ]
   },
   "outputs": [],
   "source": [
    "# using sample data from https://github.com/matplotlib/matplotlib/blob/master/lib/matplotlib/mpl-data/sample_data/percent_bachelors_degrees_women_usa.csv\n",
    "file_name = \"../data/percent_bachelors_degrees_women_usa.csv\""
   ]
  },
  {
   "cell_type": "code",
   "execution_count": 83,
   "metadata": {},
   "outputs": [],
   "source": [
    "# extract extension\n",
    "extension = file_name.rsplit('.', 1)[1].lower() \n",
    "\n",
    "# process into dataframe\n",
    "if extension == 'csv':\n",
    "    df = pd.read_csv(file_name) "
   ]
  },
  {
   "cell_type": "markdown",
   "metadata": {},
   "source": [
    "## prevalance of columns with missing values"
   ]
  },
  {
   "cell_type": "code",
   "execution_count": 84,
   "metadata": {},
   "outputs": [],
   "source": [
    "# prevalance of columns with missing values\n",
    "missing_values = pd.DataFrame(1 - df.count() / len(df)).sort_values(0)\n",
    "\n",
    "# get 3 columns with the most missing data\n",
    "some_missing = missing_values[missing_values[0] < 1]\n",
    "missing_val_list = list(some_missing.tail(3).index)"
   ]
  },
  {
   "cell_type": "code",
   "execution_count": 85,
   "metadata": {
    "tags": [
     "text",
     "output"
    ]
   },
   "outputs": [
    {
     "name": "stdout",
     "output_type": "stream",
     "text": [
      "Columns Agriculture, Public Administration, Social Sciences and History have a high percentage of missing values.\n"
     ]
    }
   ],
   "source": [
    "print(f\"Columns {', '.join(missing_val_list)} have a high percentage of missing values.\")"
   ]
  },
  {
   "cell_type": "code",
   "execution_count": 86,
   "metadata": {},
   "outputs": [],
   "source": [
    "# completely missing values\n",
    "completely_missing = list(missing_values[missing_values[0] >= 1].index)"
   ]
  },
  {
   "cell_type": "code",
   "execution_count": 87,
   "metadata": {
    "tags": [
     "text",
     "output"
    ]
   },
   "outputs": [
    {
     "name": "stdout",
     "output_type": "stream",
     "text": [
      " have no values whatsoever.\n"
     ]
    }
   ],
   "source": [
    "print(f\"{', '.join(completely_missing)} have no values whatsoever.\")"
   ]
  },
  {
   "cell_type": "markdown",
   "metadata": {},
   "source": [
    "## constant values in dataset"
   ]
  },
  {
   "cell_type": "code",
   "execution_count": 88,
   "metadata": {},
   "outputs": [],
   "source": [
    "constant_values = list(df.columns[ df.nunique()==1 ])"
   ]
  },
  {
   "cell_type": "code",
   "execution_count": 89,
   "metadata": {
    "tags": [
     "text",
     "output"
    ]
   },
   "outputs": [
    {
     "name": "stdout",
     "output_type": "stream",
     "text": [
      "There are some columns with constant values: .\n"
     ]
    }
   ],
   "source": [
    "print(f\"There are some columns with constant values: {', '.join(constant_values)}.\")"
   ]
  },
  {
   "cell_type": "markdown",
   "metadata": {},
   "source": [
    "## columns that are deterministic function of each other\n"
   ]
  },
  {
   "cell_type": "code",
   "execution_count": 90,
   "metadata": {},
   "outputs": [],
   "source": [
    "# uhm how do I do this"
   ]
  },
  {
   "cell_type": "markdown",
   "metadata": {},
   "source": [
    "## similar columns\n",
    "### FIXME: columns with inconsistentcy in int/float "
   ]
  },
  {
   "cell_type": "code",
   "execution_count": 91,
   "metadata": {},
   "outputs": [],
   "source": [
    "from difflib import SequenceMatcher\n",
    "\n",
    "def similar(a, b):\n",
    "    threshold = 0.8\n",
    "    return (SequenceMatcher(None, a, b).ratio() > threshold)"
   ]
  },
  {
   "cell_type": "code",
   "execution_count": 92,
   "metadata": {},
   "outputs": [
    {
     "data": {
      "text/plain": [
       "True"
      ]
     },
     "execution_count": 92,
     "metadata": {},
     "output_type": "execute_result"
    }
   ],
   "source": [
    "similar('asdfef', 'asdfe')"
   ]
  },
  {
   "cell_type": "code",
   "execution_count": 93,
   "metadata": {},
   "outputs": [],
   "source": [
    "#columns_list = list(df.columns)"
   ]
  },
  {
   "cell_type": "code",
   "execution_count": 99,
   "metadata": {},
   "outputs": [],
   "source": [
    "#similar(str(df.column2), str(df.column1))"
   ]
  },
  {
   "cell_type": "code",
   "execution_count": 100,
   "metadata": {},
   "outputs": [],
   "source": [
    "#res = list(zip(columns_list, columns_list[1:] + columns_list[:1])) \n",
    "#res = [(columns_list[i],columns_list[j]) for i in range(len(columns_list)) for j in range(i+1, len(columns_list))]"
   ]
  },
  {
   "cell_type": "code",
   "execution_count": 101,
   "metadata": {},
   "outputs": [],
   "source": [
    "#for i in res:\n",
    "#    similarity = similar(i[0], i[1])\n",
    "#    \n",
    "#    if similarity == True:\n",
    "#        print(i)"
   ]
  },
  {
   "cell_type": "code",
   "execution_count": null,
   "metadata": {},
   "outputs": [],
   "source": []
  }
 ],
 "metadata": {
  "celltoolbar": "Tags",
  "kernelspec": {
   "display_name": "Python 3",
   "language": "python",
   "name": "python3"
  },
  "language_info": {
   "codemirror_mode": {
    "name": "ipython",
    "version": 3
   },
   "file_extension": ".py",
   "mimetype": "text/x-python",
   "name": "python",
   "nbconvert_exporter": "python",
   "pygments_lexer": "ipython3",
   "version": "3.7.4"
  }
 },
 "nbformat": 4,
 "nbformat_minor": 2
}
