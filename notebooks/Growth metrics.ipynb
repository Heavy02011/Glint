{
 "cells": [
  {
   "cell_type": "markdown",
   "metadata": {},
   "source": [
    "Key metrics for a growing startup:\n",
    "* MRR (monthly recurring revenue)\n",
    "* Churn (how many customers leave)\n",
    "* LTV (life time value)\n",
    "* CPA -> dunno how to calculate it"
   ]
  },
  {
   "cell_type": "code",
   "execution_count": null,
   "metadata": {},
   "outputs": [],
   "source": [
    "import pandas as pd\n",
    "import numpy as np\n",
    "import locale # for currency\n",
    "import plotly.graph_objs as go\n",
    "from plotly.offline import download_plotlyjs, init_notebook_mode, plot, iplot\n",
    "\n",
    "# stay offline for plotly\n",
    "init_notebook_mode(connected=True)\n",
    "\n",
    "# set region for currency\n",
    "locale.setlocale( locale.LC_ALL, 'en_US.UTF-8' )"
   ]
  },
  {
   "cell_type": "code",
   "execution_count": null,
   "metadata": {
    "tags": [
     "parameters"
    ]
   },
   "outputs": [],
   "source": [
    "# using sample data from https://github.com/matplotlib/matplotlib/blob/master/lib/matplotlib/mpl-data/sample_data/percent_bachelors_degrees_women_usa.csv\n",
    "file_name = \"../data/payments.csv\""
   ]
  },
  {
   "cell_type": "code",
   "execution_count": null,
   "metadata": {},
   "outputs": [],
   "source": [
    "# read csv, if that doesn't work, coerce with latin-1 encoding\n",
    "try:\n",
    "    df = pd.read_csv(file_name)\n",
    "except:\n",
    "    df = pd.read_csv(file_name, encoding='latin-1')"
   ]
  },
  {
   "cell_type": "code",
   "execution_count": null,
   "metadata": {},
   "outputs": [],
   "source": [
    "user_columns = ['user', 'client', 'userid', 'clientid', 'user_id', 'client_id', 'client.email', 'customer id']\n",
    "timestamp_columns = ['timestamp', 'state.openTimestamp', 'datetime', 'created (utc)']\n",
    "\n",
    "user_id_column = \"\"\n",
    "timestamp_column = \"\"\n",
    "\n",
    "for column in list(df.columns):\n",
    "    if column.lower() in user_columns:\n",
    "        user_id_column = column\n",
    "    elif column.lower() in timestamp_columns:\n",
    "        timestamp_column = column\n",
    "\n",
    "print(f'Identified \"{user_id_column}\" as user col, \"{timestamp_column}\" as timestamp col')"
   ]
  },
  {
   "cell_type": "code",
   "execution_count": null,
   "metadata": {},
   "outputs": [],
   "source": [
    "# get native timestamp\n",
    "df['native_timestamp'] = pd.to_datetime(df[timestamp_column], errors='coerce')\n",
    "\n",
    "# get month\n",
    "df['month'] = df['native_timestamp'].dt.strftime('%Y-%m')"
   ]
  },
  {
   "cell_type": "markdown",
   "metadata": {},
   "source": [
    "## MRR"
   ]
  },
  {
   "cell_type": "code",
   "execution_count": null,
   "metadata": {},
   "outputs": [],
   "source": [
    "# get just the amount\n",
    "df_monthly = df.groupby('month').agg('sum')[['Amount']]\n",
    "\n",
    "# take last 12 months for clean plot\n",
    "last_12 = df_monthly.iloc[-30:]"
   ]
  },
  {
   "cell_type": "code",
   "execution_count": null,
   "metadata": {
    "tags": [
     "output",
     "text"
    ]
   },
   "outputs": [],
   "source": [
    "# get a description of the mrr\n",
    "description = last_12.describe()['Amount']\n",
    "\n",
    "# get the individual stats\n",
    "months = int(description['count'])\n",
    "mean = locale.currency( description['mean'], grouping=True )\n",
    "min_month = last_12.Amount.idxmin()\n",
    "max_month = last_12.Amount.idxmax()\n",
    "min_mrr = locale.currency( description['min'], grouping=True )\n",
    "max_mrr = locale.currency( description['max'], grouping=True )\n",
    "\n",
    "# print out some nice text\n",
    "print(f'Over the past {months} months, the average MRR was {mean} \\\n",
    "based on the data inputted. It varied between {min_mrr} in {min_month} \\\n",
    "and {max_mrr} in {max_month}.')"
   ]
  },
  {
   "cell_type": "code",
   "execution_count": null,
   "metadata": {},
   "outputs": [],
   "source": [
    "fig = go.Figure(data=go.Scatter(x=last_12.index, y=last_12['Amount'], \n",
    "                                mode='lines', marker_color='rgb(227, 0, 6)'))\n",
    "\n",
    "fig.update_layout(\n",
    "    title=f'MRR over the past {months} months',\n",
    "    xaxis_title='Month',\n",
    "    yaxis_title='Revenue ($)',\n",
    "    margin=dict(\n",
    "        pad=10\n",
    "    ),\n",
    "    font=dict(\n",
    "        family=\"-apple-system, BlinkMacSystemFont, 'Segoe UI', 'PingFang SC', 'Hiragino Sans GB', 'Microsoft YaHei', 'Helvetica Neue', Helvetica, Arial, sans-serif, 'Apple Color Emoji', 'Segoe UI Emoji', 'Segoe UI Symbol';\",\n",
    "        size=12,\n",
    "        color=\"#7f7f7f\"\n",
    "    )\n",
    ")\n",
    "\n",
    "fig.update_xaxes(showgrid=True, gridwidth=1, gridcolor='#EEEEEE')\n",
    "fig.update_yaxes(showgrid=True, gridwidth=1, gridcolor='#EEEEEE')\n",
    "\n",
    "fig['layout']['plot_bgcolor'] = 'rgba(0,0,0,0)'\n",
    "fig.show()"
   ]
  },
  {
   "cell_type": "code",
   "execution_count": null,
   "metadata": {
    "tags": [
     "output",
     "plotly"
    ]
   },
   "outputs": [],
   "source": [
    "output_json = fig.to_json()\n",
    "\n",
    "print(output_json)"
   ]
  },
  {
   "cell_type": "markdown",
   "metadata": {},
   "source": [
    "---\n",
    "## Churn\n",
    "\n",
    "**Monthly Churn Rate Example** from [clevertap](https://clevertap.com/blog/churn-rate/)\n",
    "\n",
    "\n",
    "Users at start of month: 2,000\n",
    "\n",
    "New users added that month: 400\n",
    "\n",
    "Users lost at the end of month: 366\n",
    "\n",
    "Monthly churn rate: 366/2,400 = 15.2%"
   ]
  },
  {
   "cell_type": "code",
   "execution_count": null,
   "metadata": {},
   "outputs": [],
   "source": [
    "months = list(df.groupby('month').agg('count').index)\n",
    "\n",
    "#month = []\n",
    "#churn = []\n",
    "\n",
    "# go over every month\n",
    "#for i in range(len(months)):\n",
    "    # get the index of each month\n",
    "#    current_month = months[i]\n",
    "#    previous_month = months[i-1]\n",
    "    \n",
    "    # get users in each month\n",
    "#    users_prev_month = df[df['month'] == previous_month]['Customer ID'].unique()\n",
    "#    users_current_month = df[df['month'] == current_month]['Customer ID'].unique()\n",
    "    \n",
    "    # find users lost\n",
    "    # users from last month which are not in current month\n",
    "#    diff = np.isin(users_prev_month, users_current_month)\n",
    "#    churned = np.unique(diff, return_counts=True)[1][0]\n",
    "    \n",
    "    # calculate churn rate\n",
    "#    churn_rate = round((churned/len(users_current_month))*100,2)\n",
    "    \n",
    "    # append to list\n",
    "#    month.append(current_month)\n",
    "#    churn.append(churn)\n",
    "\n",
    "# create dataframe\n",
    "#churn_df = pd.DataFrame({'month': month, 'churn': churn})"
   ]
  },
  {
   "cell_type": "code",
   "execution_count": null,
   "metadata": {},
   "outputs": [],
   "source": [
    "month = []\n",
    "churn = []\n",
    "\n",
    "# go over every month\n",
    "for i in range(len(months)):\n",
    "    # get the index of each month\n",
    "    current_month = months[i]\n",
    "    previous_month = months[i-1]\n",
    "    \n",
    "    # get users in each month\n",
    "    users_prev_month = df[df['month'] == previous_month]['Customer ID'].unique()\n",
    "    users_current_month = df[df['month'] == current_month]['Customer ID'].unique()\n",
    "    \n",
    "    # find users lost\n",
    "    # users from last month which are not in current month\n",
    "    diff = np.isin(users_prev_month, users_current_month)\n",
    "    churned = np.unique(diff, return_counts=True)[1][0]\n",
    "    \n",
    "    # calculate churn rate\n",
    "    churn_rate = round((churned/len(users_current_month))*100,2)\n",
    "    \n",
    "    # append to list\n",
    "    month.append(current_month)\n",
    "    churn.append(churn_rate)"
   ]
  },
  {
   "cell_type": "code",
   "execution_count": null,
   "metadata": {},
   "outputs": [],
   "source": [
    "churn"
   ]
  },
  {
   "cell_type": "code",
   "execution_count": null,
   "metadata": {},
   "outputs": [],
   "source": [
    "churn_df = pd.DataFrame({'month': month, 'churn': churn})"
   ]
  },
  {
   "cell_type": "code",
   "execution_count": null,
   "metadata": {},
   "outputs": [],
   "source": [
    "churn_df.head()"
   ]
  },
  {
   "cell_type": "code",
   "execution_count": null,
   "metadata": {},
   "outputs": [],
   "source": [
    "fig = go.Figure(data=go.Scatter(x=churn_df['month'], y=churn_df['churn'], \n",
    "                                mode='lines', marker_color='rgb(227, 0, 6)'))"
   ]
  },
  {
   "cell_type": "code",
   "execution_count": null,
   "metadata": {},
   "outputs": [],
   "source": [
    "fig.show()"
   ]
  },
  {
   "cell_type": "code",
   "execution_count": null,
   "metadata": {},
   "outputs": [],
   "source": []
  }
 ],
 "metadata": {
  "celltoolbar": "Tags",
  "kernelspec": {
   "display_name": "Python 3",
   "language": "python",
   "name": "python3"
  },
  "language_info": {
   "codemirror_mode": {
    "name": "ipython",
    "version": 3
   },
   "file_extension": ".py",
   "mimetype": "text/x-python",
   "name": "python",
   "nbconvert_exporter": "python",
   "pygments_lexer": "ipython3",
   "version": "3.7.4"
  }
 },
 "nbformat": 4,
 "nbformat_minor": 2
}
