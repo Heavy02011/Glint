{
 "cells": [
  {
   "cell_type": "code",
   "execution_count": 112,
   "metadata": {},
   "outputs": [],
   "source": [
    "import pandas as pd\n",
    "import collections"
   ]
  },
  {
   "cell_type": "code",
   "execution_count": 113,
   "metadata": {
    "tags": [
     "parameters"
    ]
   },
   "outputs": [],
   "source": [
    "# using sample data from https://github.com/matplotlib/matplotlib/blob/master/lib/matplotlib/mpl-data/sample_data/percent_bachelors_degrees_women_usa.csv\n",
    "file_name = \"../data/percent_bachelors_degrees_women_usa.csv\""
   ]
  },
  {
   "cell_type": "code",
   "execution_count": 114,
   "metadata": {},
   "outputs": [],
   "source": [
    "# extract extension\n",
    "extension = file_name.rsplit('.', 1)[1].lower() \n",
    "\n",
    "# process into dataframe\n",
    "if extension == 'csv':\n",
    "    df = pd.read_csv(file_name) "
   ]
  },
  {
   "cell_type": "code",
   "execution_count": 115,
   "metadata": {},
   "outputs": [],
   "source": [
    "# extract metadata and stats from the dataset\n",
    "name = file_name.split('/')[-1]\n",
    "rows_n = df.shape[0]\n",
    "columns_n = rows = df.shape[1]\n",
    "columns = list(df.columns)"
   ]
  },
  {
   "cell_type": "code",
   "execution_count": 116,
   "metadata": {
    "tags": [
     "text",
     "output"
    ]
   },
   "outputs": [
    {
     "name": "stdout",
     "output_type": "stream",
     "text": [
      "Inside of percent_bachelors_degrees_women_usa.csv we can observe 42 rows and 18 columns of data. \n"
     ]
    }
   ],
   "source": [
    "print(f'Inside of {name} we can observe {rows_n} rows and {columns_n} columns of data. ')"
   ]
  },
  {
   "cell_type": "code",
   "execution_count": 117,
   "metadata": {},
   "outputs": [],
   "source": [
    "# types of columns\n",
    "types_list = []\n",
    "\n",
    "for i in list(df.dtypes):\n",
    "    types_list.append(str(i))\n",
    "    \n",
    "types_series = pd.Series(types_list)\n",
    "types = dict(types_series.groupby(types_series).agg('count'))"
   ]
  },
  {
   "cell_type": "code",
   "execution_count": 118,
   "metadata": {
    "tags": [
     "text",
     "output"
    ]
   },
   "outputs": [
    {
     "name": "stdout",
     "output_type": "stream",
     "text": [
      "The data is interesting\n"
     ]
    }
   ],
   "source": [
    "try:\n",
    "    print(f\"There are {types['float64']} numerical columns, and {types['object']} string columns.\")\n",
    "except:\n",
    "    print('The data is interesting')"
   ]
  },
  {
   "cell_type": "code",
   "execution_count": 119,
   "metadata": {},
   "outputs": [],
   "source": [
    "# column with highest std\n",
    "high_std_value = round(float(pd.DataFrame(df.describe().loc['std']).sort_values('std').iloc[-1]), 2)\n",
    "high_std_name = pd.DataFrame(df.describe().loc['std']).sort_values('std').iloc[-1].name\n",
    "low_std_value = round(float(pd.DataFrame(df.describe().loc['std']).sort_values('std').iloc[1]), 2)\n",
    "low_std_name = pd.DataFrame(df.describe().loc['std']).sort_values('std').iloc[1].name"
   ]
  },
  {
   "cell_type": "code",
   "execution_count": 120,
   "metadata": {
    "tags": [
     "text",
     "output"
    ]
   },
   "outputs": [
    {
     "name": "stdout",
     "output_type": "stream",
     "text": [
      "Business has the highest standard deviation (13.12), whereas Foreign Languages has the lowest standard deviation (1.93).\n"
     ]
    }
   ],
   "source": [
    "print(f'{high_std_name} has the highest standard deviation ({high_std_value}), whereas {low_std_name} has the lowest standard deviation ({low_std_value}).')"
   ]
  },
  {
   "cell_type": "code",
   "execution_count": 121,
   "metadata": {},
   "outputs": [
    {
     "data": {
      "text/html": [
       "<div>\n",
       "<style scoped>\n",
       "    .dataframe tbody tr th:only-of-type {\n",
       "        vertical-align: middle;\n",
       "    }\n",
       "\n",
       "    .dataframe tbody tr th {\n",
       "        vertical-align: top;\n",
       "    }\n",
       "\n",
       "    .dataframe thead th {\n",
       "        text-align: right;\n",
       "    }\n",
       "</style>\n",
       "<table border=\"1\" class=\"dataframe\">\n",
       "  <thead>\n",
       "    <tr style=\"text-align: right;\">\n",
       "      <th></th>\n",
       "      <th>Year</th>\n",
       "      <th>Agriculture</th>\n",
       "      <th>Architecture</th>\n",
       "      <th>Art and Performance</th>\n",
       "      <th>Biology</th>\n",
       "      <th>Business</th>\n",
       "      <th>Communications and Journalism</th>\n",
       "      <th>Computer Science</th>\n",
       "      <th>Education</th>\n",
       "      <th>Engineering</th>\n",
       "      <th>English</th>\n",
       "      <th>Foreign Languages</th>\n",
       "      <th>Health Professions</th>\n",
       "      <th>Math and Statistics</th>\n",
       "      <th>Physical Sciences</th>\n",
       "      <th>Psychology</th>\n",
       "      <th>Public Administration</th>\n",
       "      <th>Social Sciences and History</th>\n",
       "    </tr>\n",
       "  </thead>\n",
       "  <tbody>\n",
       "    <tr>\n",
       "      <td>count</td>\n",
       "      <td>42.000000</td>\n",
       "      <td>42.000000</td>\n",
       "      <td>42.000000</td>\n",
       "      <td>42.000000</td>\n",
       "      <td>42.000000</td>\n",
       "      <td>42.000000</td>\n",
       "      <td>42.000000</td>\n",
       "      <td>42.000000</td>\n",
       "      <td>42.000000</td>\n",
       "      <td>42.000000</td>\n",
       "      <td>42.000000</td>\n",
       "      <td>42.000000</td>\n",
       "      <td>42.000000</td>\n",
       "      <td>42.000000</td>\n",
       "      <td>42.000000</td>\n",
       "      <td>42.000000</td>\n",
       "      <td>42.000000</td>\n",
       "      <td>42.000000</td>\n",
       "    </tr>\n",
       "    <tr>\n",
       "      <td>mean</td>\n",
       "      <td>1990.500000</td>\n",
       "      <td>33.848165</td>\n",
       "      <td>33.685540</td>\n",
       "      <td>61.100000</td>\n",
       "      <td>49.429864</td>\n",
       "      <td>40.653471</td>\n",
       "      <td>56.216667</td>\n",
       "      <td>25.809524</td>\n",
       "      <td>76.356236</td>\n",
       "      <td>12.892857</td>\n",
       "      <td>66.186680</td>\n",
       "      <td>71.723810</td>\n",
       "      <td>82.983333</td>\n",
       "      <td>44.478571</td>\n",
       "      <td>31.304762</td>\n",
       "      <td>68.776190</td>\n",
       "      <td>76.085714</td>\n",
       "      <td>45.407143</td>\n",
       "    </tr>\n",
       "    <tr>\n",
       "      <td>std</td>\n",
       "      <td>12.267844</td>\n",
       "      <td>12.552731</td>\n",
       "      <td>9.574057</td>\n",
       "      <td>1.305336</td>\n",
       "      <td>10.087725</td>\n",
       "      <td>13.116109</td>\n",
       "      <td>8.698610</td>\n",
       "      <td>6.688753</td>\n",
       "      <td>2.212641</td>\n",
       "      <td>5.670824</td>\n",
       "      <td>1.950990</td>\n",
       "      <td>1.926682</td>\n",
       "      <td>2.914967</td>\n",
       "      <td>2.646262</td>\n",
       "      <td>9.000866</td>\n",
       "      <td>9.705463</td>\n",
       "      <td>5.879504</td>\n",
       "      <td>4.763653</td>\n",
       "    </tr>\n",
       "    <tr>\n",
       "      <td>min</td>\n",
       "      <td>1970.000000</td>\n",
       "      <td>4.229798</td>\n",
       "      <td>11.921005</td>\n",
       "      <td>58.600000</td>\n",
       "      <td>29.088363</td>\n",
       "      <td>9.064439</td>\n",
       "      <td>35.300000</td>\n",
       "      <td>13.600000</td>\n",
       "      <td>72.166525</td>\n",
       "      <td>0.800000</td>\n",
       "      <td>61.647206</td>\n",
       "      <td>69.000000</td>\n",
       "      <td>75.500000</td>\n",
       "      <td>38.000000</td>\n",
       "      <td>13.800000</td>\n",
       "      <td>44.400000</td>\n",
       "      <td>62.600000</td>\n",
       "      <td>36.100000</td>\n",
       "    </tr>\n",
       "    <tr>\n",
       "      <td>25%</td>\n",
       "      <td>1980.250000</td>\n",
       "      <td>30.840814</td>\n",
       "      <td>28.520709</td>\n",
       "      <td>60.200000</td>\n",
       "      <td>44.311821</td>\n",
       "      <td>37.390851</td>\n",
       "      <td>55.125000</td>\n",
       "      <td>19.125000</td>\n",
       "      <td>74.994573</td>\n",
       "      <td>10.625000</td>\n",
       "      <td>65.583807</td>\n",
       "      <td>70.125000</td>\n",
       "      <td>81.825000</td>\n",
       "      <td>42.875000</td>\n",
       "      <td>24.875000</td>\n",
       "      <td>65.550000</td>\n",
       "      <td>74.625000</td>\n",
       "      <td>43.825000</td>\n",
       "    </tr>\n",
       "    <tr>\n",
       "      <td>50%</td>\n",
       "      <td>1990.500000</td>\n",
       "      <td>33.317552</td>\n",
       "      <td>35.994852</td>\n",
       "      <td>61.300000</td>\n",
       "      <td>50.971469</td>\n",
       "      <td>47.210123</td>\n",
       "      <td>59.850000</td>\n",
       "      <td>27.300000</td>\n",
       "      <td>75.937020</td>\n",
       "      <td>14.100000</td>\n",
       "      <td>66.112018</td>\n",
       "      <td>71.150000</td>\n",
       "      <td>83.700000</td>\n",
       "      <td>44.900000</td>\n",
       "      <td>32.100000</td>\n",
       "      <td>72.750000</td>\n",
       "      <td>77.450000</td>\n",
       "      <td>45.300000</td>\n",
       "    </tr>\n",
       "    <tr>\n",
       "      <td>75%</td>\n",
       "      <td>2000.750000</td>\n",
       "      <td>45.663953</td>\n",
       "      <td>40.790605</td>\n",
       "      <td>62.000000</td>\n",
       "      <td>58.679194</td>\n",
       "      <td>48.876139</td>\n",
       "      <td>62.125000</td>\n",
       "      <td>29.775000</td>\n",
       "      <td>78.619420</td>\n",
       "      <td>16.950000</td>\n",
       "      <td>67.861247</td>\n",
       "      <td>73.875000</td>\n",
       "      <td>85.175000</td>\n",
       "      <td>46.500000</td>\n",
       "      <td>40.200000</td>\n",
       "      <td>76.925000</td>\n",
       "      <td>81.100000</td>\n",
       "      <td>49.375000</td>\n",
       "    </tr>\n",
       "    <tr>\n",
       "      <td>max</td>\n",
       "      <td>2011.000000</td>\n",
       "      <td>50.037182</td>\n",
       "      <td>44.499331</td>\n",
       "      <td>63.400000</td>\n",
       "      <td>62.169456</td>\n",
       "      <td>50.552335</td>\n",
       "      <td>64.600000</td>\n",
       "      <td>37.100000</td>\n",
       "      <td>79.618625</td>\n",
       "      <td>19.000000</td>\n",
       "      <td>68.894487</td>\n",
       "      <td>75.300000</td>\n",
       "      <td>86.500000</td>\n",
       "      <td>48.300000</td>\n",
       "      <td>42.200000</td>\n",
       "      <td>77.800000</td>\n",
       "      <td>82.100000</td>\n",
       "      <td>51.800000</td>\n",
       "    </tr>\n",
       "  </tbody>\n",
       "</table>\n",
       "</div>"
      ],
      "text/plain": [
       "              Year  Agriculture  Architecture  Art and Performance    Biology  \\\n",
       "count    42.000000    42.000000     42.000000            42.000000  42.000000   \n",
       "mean   1990.500000    33.848165     33.685540            61.100000  49.429864   \n",
       "std      12.267844    12.552731      9.574057             1.305336  10.087725   \n",
       "min    1970.000000     4.229798     11.921005            58.600000  29.088363   \n",
       "25%    1980.250000    30.840814     28.520709            60.200000  44.311821   \n",
       "50%    1990.500000    33.317552     35.994852            61.300000  50.971469   \n",
       "75%    2000.750000    45.663953     40.790605            62.000000  58.679194   \n",
       "max    2011.000000    50.037182     44.499331            63.400000  62.169456   \n",
       "\n",
       "        Business  Communications and Journalism  Computer Science  Education  \\\n",
       "count  42.000000                      42.000000         42.000000  42.000000   \n",
       "mean   40.653471                      56.216667         25.809524  76.356236   \n",
       "std    13.116109                       8.698610          6.688753   2.212641   \n",
       "min     9.064439                      35.300000         13.600000  72.166525   \n",
       "25%    37.390851                      55.125000         19.125000  74.994573   \n",
       "50%    47.210123                      59.850000         27.300000  75.937020   \n",
       "75%    48.876139                      62.125000         29.775000  78.619420   \n",
       "max    50.552335                      64.600000         37.100000  79.618625   \n",
       "\n",
       "       Engineering    English  Foreign Languages  Health Professions  \\\n",
       "count    42.000000  42.000000          42.000000           42.000000   \n",
       "mean     12.892857  66.186680          71.723810           82.983333   \n",
       "std       5.670824   1.950990           1.926682            2.914967   \n",
       "min       0.800000  61.647206          69.000000           75.500000   \n",
       "25%      10.625000  65.583807          70.125000           81.825000   \n",
       "50%      14.100000  66.112018          71.150000           83.700000   \n",
       "75%      16.950000  67.861247          73.875000           85.175000   \n",
       "max      19.000000  68.894487          75.300000           86.500000   \n",
       "\n",
       "       Math and Statistics  Physical Sciences  Psychology  \\\n",
       "count            42.000000          42.000000   42.000000   \n",
       "mean             44.478571          31.304762   68.776190   \n",
       "std               2.646262           9.000866    9.705463   \n",
       "min              38.000000          13.800000   44.400000   \n",
       "25%              42.875000          24.875000   65.550000   \n",
       "50%              44.900000          32.100000   72.750000   \n",
       "75%              46.500000          40.200000   76.925000   \n",
       "max              48.300000          42.200000   77.800000   \n",
       "\n",
       "       Public Administration  Social Sciences and History  \n",
       "count              42.000000                    42.000000  \n",
       "mean               76.085714                    45.407143  \n",
       "std                 5.879504                     4.763653  \n",
       "min                62.600000                    36.100000  \n",
       "25%                74.625000                    43.825000  \n",
       "50%                77.450000                    45.300000  \n",
       "75%                81.100000                    49.375000  \n",
       "max                82.100000                    51.800000  "
      ]
     },
     "execution_count": 121,
     "metadata": {},
     "output_type": "execute_result"
    }
   ],
   "source": [
    "df.describe()"
   ]
  },
  {
   "cell_type": "code",
   "execution_count": null,
   "metadata": {},
   "outputs": [],
   "source": []
  }
 ],
 "metadata": {
  "celltoolbar": "Tags",
  "kernelspec": {
   "display_name": "Python 3",
   "language": "python",
   "name": "python3"
  },
  "language_info": {
   "codemirror_mode": {
    "name": "ipython",
    "version": 3
   },
   "file_extension": ".py",
   "mimetype": "text/x-python",
   "name": "python",
   "nbconvert_exporter": "python",
   "pygments_lexer": "ipython3",
   "version": "3.7.4"
  }
 },
 "nbformat": 4,
 "nbformat_minor": 2
}
