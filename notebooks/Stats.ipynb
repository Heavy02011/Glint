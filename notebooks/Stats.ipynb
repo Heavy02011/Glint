{
 "cells": [
  {
   "cell_type": "code",
   "execution_count": null,
   "metadata": {},
   "outputs": [],
   "source": [
    "import pandas as pd\n",
    "import collections"
   ]
  },
  {
   "cell_type": "code",
   "execution_count": null,
   "metadata": {
    "tags": [
     "parameters"
    ]
   },
   "outputs": [],
   "source": [
    "# using sample data from https://github.com/matplotlib/matplotlib/blob/master/lib/matplotlib/mpl-data/sample_data/percent_bachelors_degrees_women_usa.csv\n",
    "file_name = \"../data/percent_bachelors_degrees_women_usa.csv\""
   ]
  },
  {
   "cell_type": "code",
   "execution_count": null,
   "metadata": {},
   "outputs": [],
   "source": [
    "# extract extension\n",
    "extension = file_name.rsplit('.', 1)[1].lower() \n",
    "\n",
    "# process into dataframe\n",
    "if extension == 'csv':\n",
    "    df = pd.read_csv(file_name) "
   ]
  },
  {
   "cell_type": "code",
   "execution_count": null,
   "metadata": {},
   "outputs": [],
   "source": [
    "# extract metadata and stats from the dataset\n",
    "name = file_name.split('/')[-1]\n",
    "rows_n = df.shape[0]\n",
    "columns_n = rows = df.shape[1]\n",
    "columns = list(df.columns)"
   ]
  },
  {
   "cell_type": "code",
   "execution_count": null,
   "metadata": {
    "tags": [
     "text",
     "output"
    ]
   },
   "outputs": [],
   "source": [
    "print(f'Inside of {name} we can observe {rows_n} rows and {columns_n} columns of data. ')"
   ]
  },
  {
   "cell_type": "code",
   "execution_count": null,
   "metadata": {},
   "outputs": [],
   "source": [
    "# types of columns\n",
    "types_list = []\n",
    "\n",
    "for i in list(df.dtypes):\n",
    "    types_list.append(str(i))\n",
    "    \n",
    "types_series = pd.Series(types_list)\n",
    "types = dict(types_series.groupby(types_series).agg('count'))"
   ]
  },
  {
   "cell_type": "code",
   "execution_count": null,
   "metadata": {
    "tags": [
     "text",
     "output"
    ]
   },
   "outputs": [],
   "source": [
    "try:\n",
    "    print(f\"There are {types['float64']} numerical columns, and {types['object']} string columns.\")\n",
    "except:\n",
    "    print('The data is interesting!')"
   ]
  },
  {
   "cell_type": "code",
   "execution_count": null,
   "metadata": {},
   "outputs": [],
   "source": [
    "# column with highest std\n",
    "high_std_value = round(float(pd.DataFrame(df.describe().loc['std']).sort_values('std').iloc[-1]), 2)\n",
    "high_std_name = pd.DataFrame(df.describe().loc['std']).sort_values('std').iloc[-1].name\n",
    "low_std_value = round(float(pd.DataFrame(df.describe().loc['std']).sort_values('std').iloc[1]), 2)\n",
    "low_std_name = pd.DataFrame(df.describe().loc['std']).sort_values('std').iloc[1].name"
   ]
  },
  {
   "cell_type": "code",
   "execution_count": null,
   "metadata": {
    "tags": [
     "text",
     "output"
    ]
   },
   "outputs": [],
   "source": [
    "print(f'{high_std_name} has the highest standard deviation ({high_std_value}), whereas {low_std_name} has the lowest standard deviation ({low_std_value}).')"
   ]
  },
  {
   "cell_type": "code",
   "execution_count": null,
   "metadata": {},
   "outputs": [],
   "source": [
    "df.describe()"
   ]
  },
  {
   "cell_type": "code",
   "execution_count": null,
   "metadata": {},
   "outputs": [],
   "source": []
  }
 ],
 "metadata": {
  "celltoolbar": "Tags",
  "kernelspec": {
   "display_name": "Python 3",
   "language": "python",
   "name": "python3"
  },
  "language_info": {
   "codemirror_mode": {
    "name": "ipython",
    "version": 3
   },
   "file_extension": ".py",
   "mimetype": "text/x-python",
   "name": "python",
   "nbconvert_exporter": "python",
   "pygments_lexer": "ipython3",
   "version": "3.7.4"
  }
 },
 "nbformat": 4,
 "nbformat_minor": 2
}
