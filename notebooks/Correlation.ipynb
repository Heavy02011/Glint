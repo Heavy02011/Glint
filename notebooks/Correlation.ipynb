{
 "cells": [
  {
   "cell_type": "code",
   "execution_count": 60,
   "metadata": {},
   "outputs": [],
   "source": [
    "import pandas as pd\n",
    "import matplotlib.pyplot as plt"
   ]
  },
  {
   "cell_type": "code",
   "execution_count": 61,
   "metadata": {
    "tags": [
     "parameters"
    ]
   },
   "outputs": [],
   "source": [
    "# using sample data from https://github.com/matplotlib/matplotlib/blob/master/lib/matplotlib/mpl-data/sample_data/percent_bachelors_degrees_women_usa.csv\n",
    "file_name = \"../data/percent_bachelors_degrees_women_usa.csv\""
   ]
  },
  {
   "cell_type": "code",
   "execution_count": 62,
   "metadata": {},
   "outputs": [],
   "source": [
    "# extract extension\n",
    "extension = file_name.rsplit('.', 1)[1].lower() \n",
    "\n",
    "# process into dataframe\n",
    "if extension == 'csv':\n",
    "    df = pd.read_csv(file_name) "
   ]
  },
  {
   "cell_type": "markdown",
   "metadata": {},
   "source": [
    "or example, with demographic data, we we generally consider correlations above 0.75 to be relatively strong; correlations between 0.45 and 0.75 are moderate, and those below 0.45 are considered weak."
   ]
  },
  {
   "cell_type": "code",
   "execution_count": 63,
   "metadata": {},
   "outputs": [],
   "source": [
    "# find correlations\n",
    "corrs = pd.DataFrame(df.corr().abs().unstack().sort_values(kind=\"quicksort\"))\n",
    "\n",
    "# remove correlations of 1\n",
    "corrs = corrs[corrs[0] < 1]\n",
    "\n",
    "# extract highest correlation\n",
    "highest_corr = round(corrs.iloc[-1][0], 2)\n",
    "highest_corr_y = corrs.iloc[-1].name[0]\n",
    "highest_corr_x = corrs.iloc[-1].name[1]\n",
    "\n",
    "# compute whether it's a strong correlation\n",
    "if highest_corr > 0.75:\n",
    "    correlation_strength = 'high'\n",
    "elif highest_corr > 0.45:\n",
    "    correlation_strength = 'moderate'\n",
    "else:\n",
    "    correlation_strength = 'weak'"
   ]
  },
  {
   "cell_type": "code",
   "execution_count": 64,
   "metadata": {
    "tags": [
     "output",
     "image"
    ]
   },
   "outputs": [
    {
     "data": {
      "image/png": "[encoded data removed]",
      "text/plain": [
       "<Figure size 432x288 with 1 Axes>"
      ]
     },
     "metadata": {
      "needs_background": "light"
     },
     "output_type": "display_data"
    }
   ],
   "source": [
    "plt.scatter(df[highest_corr_x], df[highest_corr_y])\n",
    "plt.title(f'Correlation between {highest_corr_x} and {highest_corr_y}')\n",
    "plt.xlabel(highest_corr_x)\n",
    "plt.ylabel(highest_corr_y)\n",
    "plt.show()"
   ]
  },
  {
   "cell_type": "code",
   "execution_count": 65,
   "metadata": {
    "tags": [
     "text",
     "output"
    ]
   },
   "outputs": [
    {
     "name": "stdout",
     "output_type": "stream",
     "text": [
      "There is a high correlation between Communications and Journalism and Business.\n"
     ]
    }
   ],
   "source": [
    "print(f'There is a {correlation_strength} correlation between {highest_corr_x} and {highest_corr_y}.')"
   ]
  },
  {
   "cell_type": "code",
   "execution_count": null,
   "metadata": {},
   "outputs": [],
   "source": []
  }
 ],
 "metadata": {
  "celltoolbar": "Tags",
  "kernelspec": {
   "display_name": "Python 3",
   "language": "python",
   "name": "python3"
  },
  "language_info": {
   "codemirror_mode": {
    "name": "ipython",
    "version": 3
   },
   "file_extension": ".py",
   "mimetype": "text/x-python",
   "name": "python",
   "nbconvert_exporter": "python",
   "pygments_lexer": "ipython3",
   "version": "3.7.4"
  }
 },
 "nbformat": 4,
 "nbformat_minor": 2
}
