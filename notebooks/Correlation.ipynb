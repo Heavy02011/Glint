{
 "cells": [
  {
   "cell_type": "code",
   "execution_count": null,
   "metadata": {},
   "outputs": [],
   "source": [
    "import pandas as pd\n",
    "import matplotlib.pyplot as plt\n",
    "import plotly.graph_objs as go\n",
    "from plotly.offline import download_plotlyjs, init_notebook_mode, plot, iplot\n",
    "\n",
    "# stay offline for plotly\n",
    "init_notebook_mode(connected=True)"
   ]
  },
  {
   "cell_type": "code",
   "execution_count": null,
   "metadata": {
    "tags": [
     "parameters"
    ]
   },
   "outputs": [],
   "source": [
    "# using sample data from https://github.com/matplotlib/matplotlib/blob/master/lib/matplotlib/mpl-data/sample_data/percent_bachelors_degrees_women_usa.csv\n",
    "file_name = \"../data/percent_bachelors_degrees_women_usa.csv\""
   ]
  },
  {
   "cell_type": "code",
   "execution_count": null,
   "metadata": {},
   "outputs": [],
   "source": [
    "# extract extension\n",
    "extension = file_name.rsplit('.', 1)[1].lower() \n",
    "\n",
    "# process into dataframe\n",
    "if extension == 'csv':\n",
    "    try:\n",
    "        df = pd.read_csv(file_name)\n",
    "    except:\n",
    "        df = pd.read_csv(file_name, encoding='latin-1')"
   ]
  },
  {
   "cell_type": "code",
   "execution_count": null,
   "metadata": {},
   "outputs": [],
   "source": [
    "df.tail()"
   ]
  },
  {
   "cell_type": "markdown",
   "metadata": {},
   "source": [
    "or example, with demographic data, we we generally consider correlations above 0.75 to be relatively strong; correlations between 0.45 and 0.75 are moderate, and those below 0.45 are considered weak."
   ]
  },
  {
   "cell_type": "code",
   "execution_count": null,
   "metadata": {},
   "outputs": [],
   "source": [
    "# find correlations\n",
    "corrs = pd.DataFrame(df.corr().abs().unstack().sort_values(kind=\"quicksort\"))\n",
    "\n",
    "# remove correlations of 1\n",
    "corrs = corrs[corrs[0] < 1]\n",
    "\n",
    "# only compute if there are correlations to work with\n",
    "if len(corrs.index) > 0:\n",
    "    # extract highest correlation\n",
    "    highest_corr = round(corrs.iloc[-1][0], 2)\n",
    "    highest_corr_y = corrs.iloc[-1].name[0]\n",
    "    highest_corr_x = corrs.iloc[-1].name[1]\n",
    "\n",
    "    # compute whether it's a strong correlation\n",
    "    if highest_corr > 0.75:\n",
    "        correlation_strength = 'high'\n",
    "    elif highest_corr > 0.45:\n",
    "        correlation_strength = 'moderate'\n",
    "    else:\n",
    "        correlation_strength = 'weak'"
   ]
  },
  {
   "cell_type": "code",
   "execution_count": null,
   "metadata": {},
   "outputs": [],
   "source": [
    "plt.scatter(df[highest_corr_x], df[highest_corr_y])\n",
    "plt.title(f'Correlation between {highest_corr_x} and {highest_corr_y}')\n",
    "plt.xlabel(highest_corr_x)\n",
    "plt.ylabel(highest_corr_y)\n",
    "plt.show()"
   ]
  },
  {
   "cell_type": "code",
   "execution_count": null,
   "metadata": {
    "tags": [
     "text",
     "output"
    ]
   },
   "outputs": [],
   "source": [
    "print(f'There is a {correlation_strength} correlation between {highest_corr_x} and {highest_corr_y}.')"
   ]
  },
  {
   "cell_type": "code",
   "execution_count": null,
   "metadata": {},
   "outputs": [],
   "source": [
    "fig = go.Figure(data=go.Scatter(x=df[highest_corr_x], y=df[highest_corr_y], \n",
    "                                mode='markers', marker_color='rgb(227, 0, 6)'))\n",
    "\n",
    "fig.update_layout(\n",
    "    title=f'Correlation between {highest_corr_x} and {highest_corr_y}',\n",
    "    xaxis_title=highest_corr_x,\n",
    "    yaxis_title=highest_corr_y,\n",
    "    margin=dict(\n",
    "        pad=10\n",
    "    ),\n",
    "    font=dict(\n",
    "        family=\"-apple-system, BlinkMacSystemFont, 'Segoe UI', 'PingFang SC', 'Hiragino Sans GB', 'Microsoft YaHei', 'Helvetica Neue', Helvetica, Arial, sans-serif, 'Apple Color Emoji', 'Segoe UI Emoji', 'Segoe UI Symbol';\",\n",
    "        size=12,\n",
    "        color=\"#7f7f7f\"\n",
    "    )\n",
    ")\n",
    "\n",
    "fig.update_xaxes(showgrid=True, gridwidth=1, gridcolor='#EEEEEE')\n",
    "fig.update_yaxes(showgrid=True, gridwidth=1, gridcolor='#EEEEEE')\n",
    "\n",
    "fig['layout']['plot_bgcolor'] = 'rgba(0,0,0,0)'\n",
    "fig.show()"
   ]
  },
  {
   "cell_type": "code",
   "execution_count": null,
   "metadata": {
    "tags": [
     "output",
     "plotly"
    ]
   },
   "outputs": [],
   "source": [
    "output_json = fig.to_json()\n",
    "\n",
    "print(output_json)"
   ]
  },
  {
   "cell_type": "code",
   "execution_count": null,
   "metadata": {},
   "outputs": [],
   "source": []
  }
 ],
 "metadata": {
  "celltoolbar": "Tags",
  "kernelspec": {
   "display_name": "Python 3",
   "language": "python",
   "name": "python3"
  },
  "language_info": {
   "codemirror_mode": {
    "name": "ipython",
    "version": 3
   },
   "file_extension": ".py",
   "mimetype": "text/x-python",
   "name": "python",
   "nbconvert_exporter": "python",
   "pygments_lexer": "ipython3",
   "version": "3.7.4"
  }
 },
 "nbformat": 4,
 "nbformat_minor": 2
}
