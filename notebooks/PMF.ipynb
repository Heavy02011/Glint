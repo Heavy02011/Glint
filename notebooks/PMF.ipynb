{
 "cells": [
  {
   "cell_type": "markdown",
   "metadata": {},
   "source": [
    "## what P/M fit looks like \n",
    "from https://andrewchen.co/zero-to-productmarket-fit-presentation/\n",
    "\n",
    "Consumer products:\n",
    "    * Usage 3 out of every 7 days\n",
    "    * Organic growth of 100s of signups/day\n",
    "    * 30% users are active the day after signup\n",
    "    * Clear path to 100,000 user\n",
    "    \n",
    "SaaS products:\n",
    "    * 5% conversion rate from free-to-paid\n",
    "    * 3X CPA to LTV ratio\n",
    "    * <2% monthly churn rate\n",
    "    * Clear path to $100k MR\n",
    "    \n",
    "Facebook\n",
    "    * Jcurve 45% retention after 90 days, minimum 30%"
   ]
  },
  {
   "cell_type": "code",
   "execution_count": null,
   "metadata": {},
   "outputs": [],
   "source": [
    "import pandas as pd\n",
    "import plotly.graph_objs as go\n",
    "from plotly.offline import download_plotlyjs, init_notebook_mode, plot, iplot\n",
    "\n",
    "# stay offline for plotly\n",
    "init_notebook_mode(connected=True)"
   ]
  },
  {
   "cell_type": "code",
   "execution_count": null,
   "metadata": {},
   "outputs": [],
   "source": [
    "# using sample data from https://github.com/matplotlib/matplotlib/blob/master/lib/matplotlib/mpl-data/sample_data/percent_bachelors_degrees_women_usa.csv\n",
    "file_name = \"../data/payments.csv\""
   ]
  },
  {
   "cell_type": "code",
   "execution_count": null,
   "metadata": {},
   "outputs": [],
   "source": [
    "# read csv, if that doesn't work, coerce with latin-1 encoding\n",
    "try:\n",
    "    df = pd.read_csv(file_name)\n",
    "except:\n",
    "    df = pd.read_csv(file_name, encoding='latin-1')"
   ]
  },
  {
   "cell_type": "code",
   "execution_count": null,
   "metadata": {},
   "outputs": [],
   "source": [
    "user_columns = ['user', 'client', 'userid', 'clientid', 'user_id', 'client_id', 'client.email', 'customer id']\n",
    "timestamp_columns = ['timestamp', 'state.openTimestamp', 'datetime', 'created (utc)']\n",
    "\n",
    "user_id_column = \"\"\n",
    "timestamp_column = \"\"\n",
    "\n",
    "for column in list(df.columns):\n",
    "    if column.lower() in user_columns:\n",
    "        user_id_column = column\n",
    "    elif column.lower() in timestamp_columns:\n",
    "        timestamp_column = column\n",
    "\n",
    "print(f'Identified \"{user_id_column}\" as user col, \"{timestamp_column}\" as timestamp col')"
   ]
  },
  {
   "cell_type": "code",
   "execution_count": null,
   "metadata": {},
   "outputs": [],
   "source": [
    "# get native timestamp\n",
    "df['native_timestamp'] = pd.to_datetime(df[timestamp_column], errors='coerce')\n",
    "\n",
    "# get month\n",
    "df['month'] = df['native_timestamp'].dt.strftime('%Y-%m')\n",
    "\n",
    "# get week\n",
    "df['year_week'] = df['native_timestamp'].dt.strftime('%Y-%U')\n",
    "\n",
    "# get year day month\n",
    "df['day'] = df['native_timestamp'].dt.strftime('%Y-%m-%d')"
   ]
  },
  {
   "cell_type": "code",
   "execution_count": null,
   "metadata": {},
   "outputs": [],
   "source": [
    "# group by customer id and year_week\n",
    "weekly_usage = df.groupby(['Customer ID', 'year_week']).agg('count')"
   ]
  },
  {
   "cell_type": "code",
   "execution_count": null,
   "metadata": {},
   "outputs": [],
   "source": []
  }
 ],
 "metadata": {
  "kernelspec": {
   "display_name": "Python 3",
   "language": "python",
   "name": "python3"
  },
  "language_info": {
   "codemirror_mode": {
    "name": "ipython",
    "version": 3
   },
   "file_extension": ".py",
   "mimetype": "text/x-python",
   "name": "python",
   "nbconvert_exporter": "python",
   "pygments_lexer": "ipython3",
   "version": "3.7.4"
  }
 },
 "nbformat": 4,
 "nbformat_minor": 2
}
