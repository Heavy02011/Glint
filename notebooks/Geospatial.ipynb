{
 "cells": [
  {
   "cell_type": "code",
   "execution_count": 1,
   "metadata": {},
   "outputs": [],
   "source": [
    "from keplergl import KeplerGl\n",
    "import pandas as pd"
   ]
  },
  {
   "cell_type": "code",
   "execution_count": 2,
   "metadata": {
    "tags": [
     "parameters"
    ]
   },
   "outputs": [],
   "source": [
    "# using sample data from https://github.com/cmpolis/us-town-names-vis\n",
    "file_name = \"https://raw.githubusercontent.com/cmpolis/us-town-names-vis/master/us-cities-lat-lng.csv\"\n",
    "\n",
    "# default output html\n",
    "output_html = \"test.html\""
   ]
  },
  {
   "cell_type": "code",
   "execution_count": 3,
   "metadata": {},
   "outputs": [],
   "source": [
    "# read csv\n",
    "df = pd.read_csv(file_name)"
   ]
  },
  {
   "cell_type": "code",
   "execution_count": 4,
   "metadata": {},
   "outputs": [],
   "source": [
    "# coerce specific type of data into something readable\n",
    "try:\n",
    "    # make sure naming is consistent\n",
    "    df = df.rename(columns={\"_long\": \"lng\", \"_lat\": \"lat\"})\n",
    "\n",
    "    # drop rows with missing lat lng\n",
    "    df = df.dropna(subset = ['lat', 'lng'])\n",
    "\n",
    "    # make sure that the columns are floats\n",
    "    df['lng'] = pd.to_numeric(df['lng'],errors='coerce')\n",
    "    df['lat'] = pd.to_numeric(df['lat'],errors='coerce')\n",
    "\n",
    "except:\n",
    "    pass"
   ]
  },
  {
   "cell_type": "code",
   "execution_count": null,
   "metadata": {},
   "outputs": [],
   "source": [
    "map_1 = KeplerGl(data={\"dataset\": df})\n",
    "map_1"
   ]
  },
  {
   "cell_type": "code",
   "execution_count": null,
   "metadata": {
    "tags": [
     "kepler",
     "output"
    ]
   },
   "outputs": [],
   "source": [
    "map_1.save_to_html(file_name=output_html, read_only=True)\n",
    "print(output_html)"
   ]
  },
  {
   "cell_type": "code",
   "execution_count": null,
   "metadata": {},
   "outputs": [],
   "source": []
  }
 ],
 "metadata": {
  "celltoolbar": "Tags",
  "kernelspec": {
   "display_name": "Python 3",
   "language": "python",
   "name": "python3"
  },
  "language_info": {
   "codemirror_mode": {
    "name": "ipython",
    "version": 3
   },
   "file_extension": ".py",
   "mimetype": "text/x-python",
   "name": "python",
   "nbconvert_exporter": "python",
   "pygments_lexer": "ipython3",
   "version": "3.7.4"
  }
 },
 "nbformat": 4,
 "nbformat_minor": 2
}
